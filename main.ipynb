{
 "cells": [
  {
   "cell_type": "code",
   "execution_count": 1,
   "metadata": {},
   "outputs": [],
   "source": [
    "import torch\n",
    "from torch.nn import Module\n",
    "from torch.nn import Sequential\n",
    "from torch.nn import Conv2d, Dropout2d, MaxPool2d, ReLU, UpsamplingNearest2d\n",
    "\n",
    "from torchsummary import summary"
   ]
  },
  {
   "cell_type": "code",
   "execution_count": 2,
   "metadata": {},
   "outputs": [],
   "source": [
    "# Based on https://github.com/divamgupta/image-segmentation-keras/blob/master/keras_segmentation/models/unet.py#L19\n",
    "class UNetMini(Module):\n",
    "\n",
    "    def __init__(self, num_classes):\n",
    "        super(UNetMini, self).__init__()\n",
    "\n",
    "        self.block1 = Sequential(\n",
    "            Conv2d(1, 32, kernel_size=3, padding=1),\n",
    "            ReLU(),\n",
    "            Dropout2d(0.2),\n",
    "            Conv2d(32, 32, kernel_size=3, padding=1),\n",
    "            ReLU(),\n",
    "        )\n",
    "        self.pool1 = MaxPool2d((2, 2))\n",
    "\n",
    "        self.block2 = Sequential(\n",
    "            Conv2d(32, 64, kernel_size=3, padding=1),\n",
    "            ReLU(),\n",
    "            Dropout2d(0.2),\n",
    "            Conv2d(64, 64, kernel_size=3, padding=1),\n",
    "            ReLU(),\n",
    "        )\n",
    "        self.pool2 = MaxPool2d((2, 2))\n",
    "\n",
    "        self.block3 = Sequential(\n",
    "            Conv2d(64, 128, kernel_size=3, padding=1),\n",
    "            ReLU(),\n",
    "            Dropout2d(0.2),\n",
    "            Conv2d(128, 128, kernel_size=3, padding=1),\n",
    "            ReLU()\n",
    "        )\n",
    "\n",
    "        self.up1 = UpsamplingNearest2d(scale_factor=2)\n",
    "        self.block4 = Sequential(\n",
    "            Conv2d(192, 64, kernel_size=3, padding=1),\n",
    "            ReLU(),\n",
    "            Dropout2d(0.2),\n",
    "            Conv2d(64, 64, kernel_size=3, padding=1),\n",
    "            ReLU()\n",
    "        )\n",
    "\n",
    "        self.up2 = UpsamplingNearest2d(scale_factor=2)\n",
    "        self.block5 = Sequential(\n",
    "            Conv2d(96, 32, kernel_size=3, padding=1),\n",
    "            ReLU(),\n",
    "            Dropout2d(0.2),\n",
    "            Conv2d(32, 32, kernel_size=3, padding=1),\n",
    "            ReLU()\n",
    "        )\n",
    "\n",
    "        self.conv2d = Conv2d(32, num_classes, kernel_size=1)\n",
    "\n",
    "    def forward(self, x):\n",
    "        out1 = self.block1(x)\n",
    "        out_pool1 = self.pool1(out1)\n",
    "\n",
    "        out2 = self.block2(out_pool1)\n",
    "        out_pool2 = self.pool1(out2)\n",
    "\n",
    "        out3 = self.block3(out_pool2)\n",
    "\n",
    "        out_up1 = self.up1(out3)\n",
    "        # return out_up1\n",
    "        out4 = torch.cat((out_up1, out2), dim=1)\n",
    "        out4 = self.block4(out4)\n",
    "\n",
    "        out_up2 = self.up2(out4)\n",
    "        out5 = torch.cat((out_up2, out1), dim=1)\n",
    "        out5 = self.block5(out5)\n",
    "\n",
    "        out = self.conv2d(out5)\n",
    "\n",
    "        return out"
   ]
  },
  {
   "cell_type": "code",
   "execution_count": 3,
   "metadata": {},
   "outputs": [],
   "source": [
    "model = UNetMini(2)"
   ]
  },
  {
   "cell_type": "code",
   "execution_count": null,
   "metadata": {},
   "outputs": [],
   "source": []
  },
  {
   "cell_type": "code",
   "execution_count": 11,
   "metadata": {},
   "outputs": [],
   "source": [
    "from torch.utils.data import Dataset, DataLoader\n",
    "\n",
    "class AngleCharactersDataset(Dataset):\n",
    "    pass\n"
   ]
  },
  {
   "cell_type": "code",
   "execution_count": 28,
   "metadata": {},
   "outputs": [],
   "source": [
    "import numpy as np\n",
    "import cv2\n",
    "\n",
    "\n",
    "def create_sample(img_size, position):\n",
    "    \n",
    "    img = 255 * np.ones(img_size, dtype=np.uint8)\n",
    "\n",
    "    org = (int(img_size[1]*position[1]), int(img_size[0]*position[0]))\n",
    "    fontFace = cv2.FONT_HERSHEY_SIMPLEX    \n",
    "    fontScale = 1\n",
    "    color = (0, 0, 0)\n",
    "    thickness = 2\n",
    "    \n",
    "    print(org)\n",
    "    cv2.putText(img, '<<<<', org, fontFace, fontScale, color, thickness)\n",
    "    \n",
    "    return img"
   ]
  },
  {
   "cell_type": "code",
   "execution_count": 29,
   "metadata": {},
   "outputs": [
    {
     "name": "stdout",
     "output_type": "stream",
     "text": [
      "(250, 125)\n",
      "Populating the interactive namespace from numpy and matplotlib\n"
     ]
    },
    {
     "data": {
      "text/plain": [
       "<matplotlib.image.AxesImage at 0x7fc94479bb38>"
      ]
     },
     "execution_count": 29,
     "metadata": {},
     "output_type": "execute_result"
    },
    {
     "data": {
      "image/png": "[encoded data removed]",
      "text/plain": [
       "<Figure size 720x720 with 1 Axes>"
      ]
     },
     "metadata": {
      "needs_background": "light"
     },
     "output_type": "display_data"
    }
   ],
   "source": [
    "img = create_sample((250, 500), (.5, .5))\n",
    "\n",
    "%pylab inline\n",
    "\n",
    "plt.figure(figsize=(10, 10))\n",
    "plt.imshow(img, cmap='gray')"
   ]
  },
  {
   "cell_type": "code",
   "execution_count": 92,
   "metadata": {},
   "outputs": [],
   "source": [
    "from trdg.utils import load_fonts"
   ]
  },
  {
   "cell_type": "code",
   "execution_count": 93,
   "metadata": {},
   "outputs": [],
   "source": [
    "fnts = load_fonts('en')"
   ]
  },
  {
   "cell_type": "code",
   "execution_count": 95,
   "metadata": {},
   "outputs": [
    {
     "data": {
      "text/plain": [
       "'/home/xmiler/.virtualenvs/torch/lib/python3.6/site-packages/trdg/fonts/latin/Raleway-LightItalic.ttf'"
      ]
     },
     "execution_count": 95,
     "metadata": {},
     "output_type": "execute_result"
    }
   ],
   "source": [
    "fnts[0]"
   ]
  },
  {
   "cell_type": "code",
   "execution_count": 135,
   "metadata": {},
   "outputs": [
    {
     "data": {
      "image/png": "[encoded data removed]",
      "text/plain": [
       "<PIL.Image.Image image mode=RGB size=119x64 at 0x7FE6E27DB9E8>"
      ]
     },
     "execution_count": 135,
     "metadata": {},
     "output_type": "execute_result"
    }
   ],
   "source": [
    "from trdg.generators import GeneratorFromStrings\n",
    "\n",
    "# fnts[1, 13, 15, 19, 20, 27]\n",
    "generator = GeneratorFromStrings(['Test1', 'Test2', 'Test3'], size=64, text_color='#000000', fonts=[fnts[27]], background_type=1)\n",
    "\n",
    "for img in generator:\n",
    "    # Do something with the pillow image here.\n",
    "    break\n",
    "    \n",
    "im = np.array(img[0])\n",
    "img[0]"
   ]
  },
  {
   "cell_type": "code",
   "execution_count": null,
   "metadata": {},
   "outputs": [],
   "source": []
  },
  {
   "cell_type": "code",
   "execution_count": 234,
   "metadata": {},
   "outputs": [],
   "source": []
  },
  {
   "cell_type": "code",
   "execution_count": null,
   "metadata": {},
   "outputs": [],
   "source": []
  },
  {
   "cell_type": "code",
   "execution_count": null,
   "metadata": {},
   "outputs": [],
   "source": []
  },
  {
   "cell_type": "code",
   "execution_count": 483,
   "metadata": {},
   "outputs": [
    {
     "data": {
      "text/plain": [
       "1.2307692307692308"
      ]
     },
     "execution_count": 483,
     "metadata": {},
     "output_type": "execute_result"
    }
   ],
   "source": [
    "800 / 650"
   ]
  },
  {
   "cell_type": "code",
   "execution_count": 625,
   "metadata": {},
   "outputs": [],
   "source": []
  },
  {
   "cell_type": "code",
   "execution_count": 29,
   "metadata": {},
   "outputs": [],
   "source": [
    "import string\n",
    "\n",
    "import numpy as np\n",
    "\n",
    "import cv2\n",
    "\n",
    "from trdg.computer_text_generator import generate\n",
    "from trdg.utils import load_fonts\n",
    "\n",
    "np.random.seed(0)\n",
    "\n",
    "CHARACTERS = list(string.ascii_letters + string.digits*3 + ':/'*2)\n",
    "FONTS = load_fonts('en')\n",
    "\n",
    "def generate_random_word(size):\n",
    "\n",
    "    return ''.join(np.random.choice(CHARACTERS, size=size))\n",
    "\n",
    "\n",
    "def create_fragment_with_text(angles_string):\n",
    "    img = generate(angles_string, font=FONTS[1], text_color='#000000', font_size=64, space_width=1., fit=False, orientation=0)\n",
    "    return cv2.bitwise_not(np.array(img)[:, :, 3])  # library \"trdg\" writes result to alpha channel. Convert to grey.\n",
    "\n",
    "\n",
    "def put_fragment(img, crop, pt):\n",
    "    size = (min(img.shape[0]-pt[0], crop.shape[0]),\n",
    "            min(img.shape[1]-pt[1], crop.shape[1]))\n",
    "    \n",
    "    img[pt[0]:pt[0]+size[0], pt[1]:pt[1]+size[1]] = crop[:size[0], :size[1]]\n",
    "\n",
    "    \n",
    "def create_bare_card_image(size):\n",
    "    \"\"\"\n",
    "    Creates image with pattern text, i.e. that consist of ' ' or '<' characters. \n",
    "    From that point one can put any synthetic artifacts within image.\n",
    "    Returns result image and extra parameters to restore current zone of interest.\n",
    "    \"\"\"\n",
    "    def generate_pattern_text(max_size, pieces_num = 4, piece_max_len = 20):\n",
    "        while True:\n",
    "            rnd_flags = np.random.randint(0, high=2, size=pieces_num)\n",
    "            rnd_lens = np.random.randint(1, high=piece_max_len+1, size=(pieces_num))\n",
    "\n",
    "            pieces = [(' ' if f else '<')*n for f, n in zip(rnd_flags, rnd_lens)]\n",
    "            angles_string = ''.join(pieces)[:max_size]\n",
    "\n",
    "            if '<' in angles_string:\n",
    "                break\n",
    "\n",
    "        return angles_string\n",
    "    \n",
    "        \n",
    "    output_image = 255 * np.ones(size, dtype=np.uint8)    \n",
    "    \n",
    "    patter_texts_num = 3\n",
    "    patter_text_size = 20\n",
    "    \n",
    "    pattern_texts = [generate_pattern_text(patter_text_size) for _ in range(patter_texts_num)]    \n",
    "\n",
    "    pt_xs = np.random.randint(0, high=100)*np.ones((patter_texts_num), dtype=np.int)\n",
    "    pt_ys = size[0] - np.cumsum(np.random.randint(50, high=100, size=(patter_texts_num)))\n",
    "    \n",
    "    pts = list(zip(pt_ys, pt_xs))\n",
    "    \n",
    "    pattern_text_images = [create_fragment_with_text(pattern_text) for pattern_text in pattern_texts]\n",
    "    for img_i in range(len(pattern_text_images)):        \n",
    "        put_fragment(output_image, pattern_text_images[img_i], (pts[img_i]))\n",
    "    \n",
    "    \n",
    "    return output_image, pattern_texts, pts\n",
    "\n",
    "\n",
    "def add_noise_to_pattern_text(pattern_text):\n",
    "    pattern_text_noised = ''.join([ch if ch == '<' else generate_random_word(1) for ch in pattern_text])\n",
    "    return pattern_text_noised"
   ]
  },
  {
   "cell_type": "code",
   "execution_count": 44,
   "metadata": {},
   "outputs": [
    {
     "data": {
      "text/plain": [
       "['Da72d95q1:404<<<<<<<', '<<<<<<<<<<<<<<<<<<<<', '<<<<<<Wr5j076Heq90xh']"
      ]
     },
     "execution_count": 44,
     "metadata": {},
     "output_type": "execute_result"
    }
   ],
   "source": [
    "DST_SIZE = (650, 800)\n",
    "\n",
    "image, pattern_texts, pattern_text_images_pts = create_bare_card_image(DST_SIZE)\n",
    "\n",
    "image_gt = cv2.bitwise_not(image)\n",
    "\n",
    "# showarray(image_gt)\n",
    "\n",
    "pattern_texts = [add_noise_to_pattern_text(pattern_text) for pattern_text in pattern_texts]\n",
    "\n",
    "\n",
    "\n",
    "pattern_texts"
   ]
  },
  {
   "cell_type": "code",
   "execution_count": null,
   "metadata": {},
   "outputs": [],
   "source": []
  },
  {
   "cell_type": "code",
   "execution_count": 730,
   "metadata": {},
   "outputs": [
    {
     "data": {
      "text/plain": [
       "PosixPath('images4augment/faces/part1/30b.jpg')"
      ]
     },
     "execution_count": 730,
     "metadata": {},
     "output_type": "execute_result"
    }
   ],
   "source": [
    "np.random.choice(image_face_paths, 1)[0]"
   ]
  },
  {
   "cell_type": "code",
   "execution_count": 1,
   "metadata": {},
   "outputs": [],
   "source": [
    "import io\n",
    "import string\n",
    "from pathlib import Path\n",
    "\n",
    "import numpy as np\n",
    "from numpy.random import randint\n",
    "\n",
    "import cv2\n",
    "import PIL.Image\n",
    "\n",
    "from trdg.computer_text_generator import generate\n",
    "from trdg.utils import load_fonts\n",
    "\n",
    "from IPython.display import clear_output, Image, display\n",
    "\n",
    "\n",
    "np.random.seed(0)\n",
    "\n",
    "\n",
    "CHARACTERS = list(string.ascii_letters + string.digits*3 + ':/'*2)\n",
    "FONTS = [font for i, font in enumerate(load_fonts('en')) if i in [1, 2, 15, 19, 22, 23, 24, 27, 35, 49]]  # picked MRZ like fonts\n",
    "\n",
    "image_face_paths = sorted([path for path in Path('images4augment').glob('**/*') if path.is_file()])\n",
    "\n",
    "\n",
    "def generate_random_word(size, uppercase=False):\n",
    "    characters_set = list(string.ascii_uppercase) if uppercase else CHARACTERS    \n",
    "    return ''.join(np.random.choice(characters_set, size=size))\n",
    "\n",
    "def create_image_with_text(text, font_id=None, font_size=None):\n",
    "    if font_id is None:\n",
    "        font_id = randint(0, high=len(FONTS))\n",
    "    if font_size is None:\n",
    "        font_size = randint(16, high=64)\n",
    "    img = generate(text, font=FONTS[font_id], text_color='#000000', font_size=font_size, space_width=1., fit=False, orientation=0)\n",
    "    return cv2.bitwise_not(np.array(img)[:, :, 3])  # library \"trdg\" writes result to alpha channel. Convert to grey.\n",
    "\n",
    "def generate_random_face(size):\n",
    "    image_face_path = np.random.choice(image_face_paths, 1)[0]\n",
    "    image_face = cv2.imread(image_face_path.as_posix(), cv2.IMREAD_GRAYSCALE)\n",
    "    h_, w_ = image_face.shape\n",
    "    size_ = max(h_, w_)\n",
    "    h = int(h_ * size / size_)\n",
    "    w = int(w_ * size / size_)\n",
    "    image_face = cv2.resize(image_face, (w, h))\n",
    "    return image_face\n",
    "\n",
    "def show_array(a, fmt='jpeg'):\n",
    "    a = np.uint8(np.clip(a, 0, 255))\n",
    "    if a.ndim == 3:\n",
    "        a = a[:, :, ::-1]  # BGR2RGB\n",
    "    \n",
    "    f = io.BytesIO()\n",
    "    PIL.Image.fromarray(a).save(f, fmt)\n",
    "    display(Image(data=f.getvalue()))\n",
    "\n",
    "\n",
    "class SyntheticCardImageGenerator():\n",
    "    CARD_SIZE = (650, 800)\n",
    "    PATTERN_TEXTS_NUM = 3\n",
    "    \n",
    "    def __init__(self):        \n",
    "        \"\"\"\n",
    "        Creates image with pattern text, i.e. that consist of ' ' or '<' characters. \n",
    "        From that point one can put any synthetic artifacts within image.\n",
    "        Stores result image and extra parameters to restore current zone of interest.\n",
    "        \"\"\"\n",
    "        self._image = 255 * np.ones(self.CARD_SIZE, dtype=np.uint8) \n",
    "        \n",
    "        # generate bare pattern texts\n",
    "        self._pattern_texts = [self.generate_pattern_text_bare() for _ in range(self.PATTERN_TEXTS_NUM)]    \n",
    "\n",
    "        # patternt texts drawing parameters\n",
    "        pt_xs = randint(0, high=100)*np.ones((self.PATTERN_TEXTS_NUM), dtype=np.int)\n",
    "        pt_ys = self.CARD_SIZE[0] - np.cumsum(randint(50, high=100, size=(self.PATTERN_TEXTS_NUM)))\n",
    "        pt_ys -= 10\n",
    "        self._pattern_text_imgs_pt = list(zip(pt_ys, pt_xs))\n",
    "        font_id = randint(0, high=len(FONTS))\n",
    "        font_size = 60\n",
    "\n",
    "        # draw bare pattern texts\n",
    "        self._pattern_text_imgs = [create_image_with_text(pattern_text, font_id=font_id, font_size=font_size) for pattern_text in self._pattern_texts]\n",
    "        self.draw_pattern_texts()\n",
    "        \n",
    "        # store ground truth\n",
    "        self._image_gt = cv2.bitwise_not(self._image)\n",
    "        \n",
    "        # redraw with non-bare pattern text \n",
    "        self._pattern_texts = [''.join([ch if ch == '<' else generate_random_word(1, uppercase=True) for ch in pattern_text]) for pattern_text in self._pattern_texts]\n",
    "        self._pattern_text_imgs = [create_image_with_text(pattern_text, font_id=font_id, font_size=font_size) for pattern_text in self._pattern_texts]\n",
    "        self.draw_pattern_texts()\n",
    "\n",
    "    @property\n",
    "    def image(self):\n",
    "        return self._image\n",
    "    \n",
    "    @property\n",
    "    def image_gt(self):\n",
    "        return self._image_gt\n",
    "    \n",
    "    def show(self):\n",
    "        show_array(self._image)\n",
    "        \n",
    "    def put_fragment(self, fragment, pt=None):\n",
    "        if pt is None:\n",
    "            pt = tuple([randint(0, high=self.CARD_SIZE[i]) for i in [0, 1]])\n",
    "        size = (min(self._image.shape[0]-pt[0], fragment.shape[0]),\n",
    "        min(self._image.shape[1]-pt[1], fragment.shape[1]))\n",
    "        self._image[pt[0]:pt[0]+size[0], pt[1]:pt[1]+size[1]] = fragment[:size[0], :size[1]]\n",
    "                \n",
    "    def draw_pattern_texts(self):\n",
    "        for img_i in range(self.PATTERN_TEXTS_NUM):        \n",
    "            self.put_fragment(self._pattern_text_imgs[img_i], self._pattern_text_imgs_pt[img_i])       \n",
    "    \n",
    "    @staticmethod\n",
    "    def generate_pattern_text_bare(max_size = 16, pieces_num = 10, piece_max_len = 20):\n",
    "        while True:\n",
    "            rnd_flags = randint(0, high=2, size=pieces_num)\n",
    "            rnd_lens = randint(1, high=piece_max_len+1, size=(pieces_num))\n",
    "\n",
    "            pieces = [(' ' if f else '<')*n for f, n in zip(rnd_flags, rnd_lens)]\n",
    "            pattern_text_bare = ''.join(pieces)[:max_size]\n",
    "\n",
    "            if '<' in pattern_text_bare:\n",
    "                break\n",
    "        return pattern_text_bare    \n"
   ]
  },
  {
   "cell_type": "code",
   "execution_count": 2,
   "metadata": {},
   "outputs": [],
   "source": [
    "card_image = SyntheticCardImageGenerator()\n",
    "# card_image.show()"
   ]
  },
  {
   "cell_type": "code",
   "execution_count": 20,
   "metadata": {},
   "outputs": [
    {
     "data": {
      "image/jpeg": "[encoded data removed]",
      "text/plain": [
       "<IPython.core.display.Image object>"
      ]
     },
     "metadata": {},
     "output_type": "display_data"
    }
   ],
   "source": [
    "card_image = SyntheticCardImageGenerator()\n",
    "\n",
    "for _ in range(25):\n",
    "    text = generate_random_word(randint(5, 20))\n",
    "    text_image = create_image_with_text(text)    \n",
    "    card_image.put_fragment(text_image)\n",
    "    \n",
    "face_image = generate_random_face(randint(150, 350))\n",
    "\n",
    "card_image.put_fragment(face_image)\n",
    "\n",
    "card_image.draw_pattern_texts()\n",
    "\n",
    "card_image.show()"
   ]
  },
  {
   "cell_type": "code",
   "execution_count": 839,
   "metadata": {},
   "outputs": [],
   "source": [
    "from pathlib import Path\n"
   ]
  },
  {
   "cell_type": "code",
   "execution_count": 840,
   "metadata": {},
   "outputs": [
    {
     "data": {
      "text/plain": [
       "(200, 144)"
      ]
     },
     "execution_count": 840,
     "metadata": {},
     "output_type": "execute_result"
    }
   ],
   "source": [
    "im = generate_random_face(200)\n",
    "im.shape"
   ]
  },
  {
   "cell_type": "code",
   "execution_count": 841,
   "metadata": {},
   "outputs": [
    {
     "data": {
      "image/jpeg": "[encoded data removed]",
      "text/plain": [
       "<IPython.core.display.Image object>"
      ]
     },
     "metadata": {},
     "output_type": "display_data"
    }
   ],
   "source": [
    "show_array(im)"
   ]
  },
  {
   "cell_type": "code",
   "execution_count": null,
   "metadata": {},
   "outputs": [],
   "source": []
  },
  {
   "cell_type": "code",
   "execution_count": null,
   "metadata": {},
   "outputs": [],
   "source": []
  },
  {
   "cell_type": "code",
   "execution_count": 698,
   "metadata": {},
   "outputs": [
    {
     "data": {
      "text/plain": [
       "(650, 800)"
      ]
     },
     "execution_count": 698,
     "metadata": {},
     "output_type": "execute_result"
    }
   ],
   "source": [
    "card_image.image.shape"
   ]
  },
  {
   "cell_type": "code",
   "execution_count": 690,
   "metadata": {},
   "outputs": [
    {
     "data": {
      "image/jpeg": "[encoded data removed]",
      "text/plain": [
       "<IPython.core.display.Image object>"
      ]
     },
     "metadata": {},
     "output_type": "display_data"
    }
   ],
   "source": [
    "show_array(card_image.image_gt)"
   ]
  },
  {
   "cell_type": "code",
   "execution_count": null,
   "metadata": {},
   "outputs": [],
   "source": []
  },
  {
   "cell_type": "code",
   "execution_count": null,
   "metadata": {},
   "outputs": [],
   "source": []
  },
  {
   "cell_type": "code",
   "execution_count": null,
   "metadata": {},
   "outputs": [],
   "source": []
  },
  {
   "cell_type": "code",
   "execution_count": null,
   "metadata": {},
   "outputs": [],
   "source": []
  },
  {
   "cell_type": "code",
   "execution_count": null,
   "metadata": {},
   "outputs": [],
   "source": []
  },
  {
   "cell_type": "code",
   "execution_count": 61,
   "metadata": {},
   "outputs": [
    {
     "data": {
      "image/jpeg": "[encoded data removed]",
      "text/plain": [
       "<IPython.core.display.Image object>"
      ]
     },
     "metadata": {},
     "output_type": "display_data"
    }
   ],
   "source": [
    "def create_image_with_text(text):\n",
    "    img = generate(text, font=FONTS[49], text_color='#000000', font_size=64, space_width=1., fit=False, orientation=0)\n",
    "    return cv2.bitwise_not(np.array(img)[:, :, 3])  # library \"trdg\" writes result to alpha channel. Convert to grey.\n",
    "\n",
    "\n",
    "show_array(create_image_with_text('test TEST'))"
   ]
  },
  {
   "cell_type": "code",
   "execution_count": 38,
   "metadata": {},
   "outputs": [
    {
     "data": {
      "text/plain": [
       "[1, 2, 15, 19, 22, 23, 24, 27]"
      ]
     },
     "execution_count": 38,
     "metadata": {},
     "output_type": "execute_result"
    }
   ],
   "source": [
    "[1, 2, 15, 19, 22, 23, 24, 27, 35, 49]"
   ]
  },
  {
   "cell_type": "code",
   "execution_count": 61,
   "metadata": {},
   "outputs": [
    {
     "data": {
      "text/plain": [
       "['<<<<aK1fMr7eQ6Fb<<<<', '<<<<<<<<<<<<<<<<<<<<', '<<<<<<<<<<3<<<<<<<<<']"
      ]
     },
     "execution_count": 61,
     "metadata": {},
     "output_type": "execute_result"
    }
   ],
   "source": [
    "card_image.add_noise_to_pattern_text()\n",
    "card_image.pattern_texts"
   ]
  },
  {
   "cell_type": "code",
   "execution_count": 64,
   "metadata": {},
   "outputs": [
    {
     "data": {
      "text/plain": [
       "10"
      ]
     },
     "execution_count": 64,
     "metadata": {},
     "output_type": "execute_result"
    }
   ],
   "source": [
    "len(FONTS)"
   ]
  },
  {
   "cell_type": "code",
   "execution_count": 45,
   "metadata": {},
   "outputs": [
    {
     "data": {
      "text/plain": [
       "100"
      ]
     },
     "execution_count": 45,
     "metadata": {},
     "output_type": "execute_result"
    }
   ],
   "source": [
    "len(FONTS)"
   ]
  },
  {
   "cell_type": "code",
   "execution_count": null,
   "metadata": {},
   "outputs": [],
   "source": []
  },
  {
   "cell_type": "code",
   "execution_count": null,
   "metadata": {},
   "outputs": [],
   "source": []
  },
  {
   "cell_type": "code",
   "execution_count": null,
   "metadata": {},
   "outputs": [],
   "source": []
  },
  {
   "cell_type": "code",
   "execution_count": 25,
   "metadata": {},
   "outputs": [
    {
     "data": {
      "image/jpeg": "[encoded data removed]",
      "text/plain": [
       "<IPython.core.display.Image object>"
      ]
     },
     "metadata": {},
     "output_type": "display_data"
    }
   ],
   "source": [
    "showarray(card_image._image)"
   ]
  },
  {
   "cell_type": "code",
   "execution_count": 18,
   "metadata": {},
   "outputs": [
    {
     "data": {
      "text/plain": [
       "'<<<            <<<<<'"
      ]
     },
     "execution_count": 18,
     "metadata": {},
     "output_type": "execute_result"
    }
   ],
   "source": [
    "angle_string = angles_strings[1]\n",
    "angle_string"
   ]
  },
  {
   "cell_type": "code",
   "execution_count": 31,
   "metadata": {},
   "outputs": [
    {
     "data": {
      "text/plain": [
       "['<<<<aK1fMr7eQ6Fb<<<<', '<<<<<<<<<<<<<<<<<<<<', '<<<<<<<<<<3<<<<<<<<<']"
      ]
     },
     "execution_count": 31,
     "metadata": {},
     "output_type": "execute_result"
    }
   ],
   "source": [
    "pattern_texts"
   ]
  },
  {
   "cell_type": "code",
   "execution_count": null,
   "metadata": {},
   "outputs": [],
   "source": []
  },
  {
   "cell_type": "code",
   "execution_count": null,
   "metadata": {},
   "outputs": [],
   "source": []
  },
  {
   "cell_type": "code",
   "execution_count": null,
   "metadata": {},
   "outputs": [],
   "source": []
  },
  {
   "cell_type": "code",
   "execution_count": 212,
   "metadata": {},
   "outputs": [
    {
     "data": {
      "text/plain": [
       "'<<<<<<<<<<<<<<<<<<<<'"
      ]
     },
     "execution_count": 212,
     "metadata": {},
     "output_type": "execute_result"
    }
   ],
   "source": [
    "''.join([ch if ch == '<' else '-' for ch in angle_string])"
   ]
  },
  {
   "cell_type": "code",
   "execution_count": 189,
   "metadata": {},
   "outputs": [],
   "source": []
  },
  {
   "cell_type": "code",
   "execution_count": 208,
   "metadata": {},
   "outputs": [
    {
     "data": {
      "text/plain": [
       "':I9EB100:x'"
      ]
     },
     "execution_count": 208,
     "metadata": {},
     "output_type": "execute_result"
    }
   ],
   "source": [
    "generate_random_word(10)"
   ]
  },
  {
   "cell_type": "code",
   "execution_count": 159,
   "metadata": {},
   "outputs": [
    {
     "data": {
      "text/plain": [
       "'yr0if:k0Dl'"
      ]
     },
     "execution_count": 159,
     "metadata": {},
     "output_type": "execute_result"
    }
   ],
   "source": [
    "''.join(np.random.choice(CHARACTERS, size=10))"
   ]
  },
  {
   "cell_type": "code",
   "execution_count": 94,
   "metadata": {},
   "outputs": [
    {
     "data": {
      "text/plain": [
       "'abcdefghijklmnopqrstuvwxyzABCDEFGHIJKLMNOPQRSTUVWXYZ'"
      ]
     },
     "execution_count": 94,
     "metadata": {},
     "output_type": "execute_result"
    }
   ],
   "source": [
    "string.ascii_letters"
   ]
  },
  {
   "cell_type": "code",
   "execution_count": 20,
   "metadata": {},
   "outputs": [],
   "source": [
    "import io\n",
    "from IPython.display import clear_output, Image, display\n",
    "import PIL.Image\n",
    "\n",
    "def showarray(a, fmt='jpeg'):\n",
    "    a = np.uint8(np.clip(a, 0, 255))\n",
    "    f = io.BytesIO()\n",
    "    PIL.Image.fromarray(a).save(f, fmt)\n",
    "    display(Image(data=f.getvalue()))"
   ]
  },
  {
   "cell_type": "code",
   "execution_count": 3,
   "metadata": {},
   "outputs": [
    {
     "name": "stdout",
     "output_type": "stream",
     "text": [
      "Populating the interactive namespace from numpy and matplotlib\n"
     ]
    },
    {
     "data": {
      "text/plain": [
       "<matplotlib.image.AxesImage at 0x7f9ffdb27978>"
      ]
     },
     "execution_count": 3,
     "metadata": {},
     "output_type": "execute_result"
    },
    {
     "data": {
      "image/png": "[encoded data removed]",
      "text/plain": [
       "<Figure size 432x288 with 1 Axes>"
      ]
     },
     "metadata": {
      "needs_background": "light"
     },
     "output_type": "display_data"
    }
   ],
   "source": [
    "%pylab inline\n",
    "\n",
    "plt.imshow(output_image, cmap='gray', vmin=0, vmax=255)"
   ]
  },
  {
   "cell_type": "code",
   "execution_count": 14,
   "metadata": {},
   "outputs": [
    {
     "name": "stdout",
     "output_type": "stream",
     "text": [
      "Populating the interactive namespace from numpy and matplotlib\n"
     ]
    }
   ],
   "source": []
  },
  {
   "cell_type": "code",
   "execution_count": 15,
   "metadata": {},
   "outputs": [
    {
     "data": {
      "text/plain": [
       "<matplotlib.image.AxesImage at 0x7f0b02123390>"
      ]
     },
     "execution_count": 15,
     "metadata": {},
     "output_type": "execute_result"
    },
    {
     "data": {
      "image/png": "[encoded data removed]",
      "text/plain": [
       "<Figure size 432x288 with 1 Axes>"
      ]
     },
     "metadata": {
      "needs_background": "light"
     },
     "output_type": "display_data"
    }
   ],
   "source": []
  },
  {
   "cell_type": "code",
   "execution_count": null,
   "metadata": {},
   "outputs": [],
   "source": []
  },
  {
   "cell_type": "code",
   "execution_count": 637,
   "metadata": {},
   "outputs": [],
   "source": [
    "import torchvision"
   ]
  },
  {
   "cell_type": "code",
   "execution_count": 640,
   "metadata": {},
   "outputs": [
    {
     "ename": "IsADirectoryError",
     "evalue": "[Errno 21] Is a directory: './background_images_ann'",
     "output_type": "error",
     "traceback": [
      "\u001b[0;31m---------------------------------------------------------------------------\u001b[0m",
      "\u001b[0;31mIsADirectoryError\u001b[0m                         Traceback (most recent call last)",
      "\u001b[0;32m<ipython-input-640-a83d3c1f2893>\u001b[0m in \u001b[0;36m<module>\u001b[0;34m\u001b[0m\n\u001b[0;32m----> 1\u001b[0;31m \u001b[0mbackground_images\u001b[0m \u001b[0;34m=\u001b[0m \u001b[0mtorchvision\u001b[0m\u001b[0;34m.\u001b[0m\u001b[0mdatasets\u001b[0m\u001b[0;34m.\u001b[0m\u001b[0mFlickr8k\u001b[0m\u001b[0;34m(\u001b[0m\u001b[0;34m'background_images'\u001b[0m\u001b[0;34m,\u001b[0m \u001b[0;34m'./background_images_ann'\u001b[0m\u001b[0;34m)\u001b[0m\u001b[0;34m\u001b[0m\u001b[0;34m\u001b[0m\u001b[0m\n\u001b[0m",
      "\u001b[0;32m~/.virtualenvs/torch/lib/python3.6/site-packages/torchvision/datasets/flickr.py\u001b[0m in \u001b[0;36m__init__\u001b[0;34m(self, root, ann_file, transform, target_transform)\u001b[0m\n\u001b[1;32m     70\u001b[0m         \u001b[0;31m# Read annotations and store in a dict\u001b[0m\u001b[0;34m\u001b[0m\u001b[0;34m\u001b[0m\u001b[0;34m\u001b[0m\u001b[0m\n\u001b[1;32m     71\u001b[0m         \u001b[0mparser\u001b[0m \u001b[0;34m=\u001b[0m \u001b[0mFlickr8kParser\u001b[0m\u001b[0;34m(\u001b[0m\u001b[0mself\u001b[0m\u001b[0;34m.\u001b[0m\u001b[0mroot\u001b[0m\u001b[0;34m)\u001b[0m\u001b[0;34m\u001b[0m\u001b[0;34m\u001b[0m\u001b[0m\n\u001b[0;32m---> 72\u001b[0;31m         \u001b[0;32mwith\u001b[0m \u001b[0mopen\u001b[0m\u001b[0;34m(\u001b[0m\u001b[0mself\u001b[0m\u001b[0;34m.\u001b[0m\u001b[0mann_file\u001b[0m\u001b[0;34m)\u001b[0m \u001b[0;32mas\u001b[0m \u001b[0mfh\u001b[0m\u001b[0;34m:\u001b[0m\u001b[0;34m\u001b[0m\u001b[0;34m\u001b[0m\u001b[0m\n\u001b[0m\u001b[1;32m     73\u001b[0m             \u001b[0mparser\u001b[0m\u001b[0;34m.\u001b[0m\u001b[0mfeed\u001b[0m\u001b[0;34m(\u001b[0m\u001b[0mfh\u001b[0m\u001b[0;34m.\u001b[0m\u001b[0mread\u001b[0m\u001b[0;34m(\u001b[0m\u001b[0;34m)\u001b[0m\u001b[0;34m)\u001b[0m\u001b[0;34m\u001b[0m\u001b[0;34m\u001b[0m\u001b[0m\n\u001b[1;32m     74\u001b[0m         \u001b[0mself\u001b[0m\u001b[0;34m.\u001b[0m\u001b[0mannotations\u001b[0m \u001b[0;34m=\u001b[0m \u001b[0mparser\u001b[0m\u001b[0;34m.\u001b[0m\u001b[0mannotations\u001b[0m\u001b[0;34m\u001b[0m\u001b[0;34m\u001b[0m\u001b[0m\n",
      "\u001b[0;31mIsADirectoryError\u001b[0m: [Errno 21] Is a directory: './background_images_ann'"
     ]
    }
   ],
   "source": [
    "background_images = torchvision.datasets.Flickr8k('background_images', './background_images_ann')"
   ]
  },
  {
   "cell_type": "code",
   "execution_count": null,
   "metadata": {},
   "outputs": [],
   "source": []
  },
  {
   "cell_type": "code",
   "execution_count": 508,
   "metadata": {
    "scrolled": true
   },
   "outputs": [
    {
     "data": {
      "text/plain": [
       "<matplotlib.image.AxesImage at 0x7fe6db018710>"
      ]
     },
     "execution_count": 508,
     "metadata": {},
     "output_type": "execute_result"
    },
    {
     "data": {
      "image/png": "[encoded data removed]",
      "text/plain": [
       "<Figure size 432x288 with 1 Axes>"
      ]
     },
     "metadata": {
      "needs_background": "light"
     },
     "output_type": "display_data"
    }
   ],
   "source": []
  },
  {
   "cell_type": "code",
   "execution_count": null,
   "metadata": {},
   "outputs": [],
   "source": []
  },
  {
   "cell_type": "code",
   "execution_count": null,
   "metadata": {},
   "outputs": [],
   "source": []
  },
  {
   "cell_type": "code",
   "execution_count": 501,
   "metadata": {},
   "outputs": [
    {
     "data": {
      "text/plain": [
       "35"
      ]
     },
     "execution_count": 501,
     "metadata": {},
     "output_type": "execute_result"
    }
   ],
   "source": [
    "\n",
    "pt_x_angles_string"
   ]
  },
  {
   "cell_type": "code",
   "execution_count": 500,
   "metadata": {},
   "outputs": [
    {
     "data": {
      "text/plain": [
       "array([374, 275, 196])"
      ]
     },
     "execution_count": 500,
     "metadata": {},
     "output_type": "execute_result"
    }
   ],
   "source": [
    "pt_ys_angles_string"
   ]
  },
  {
   "cell_type": "code",
   "execution_count": 498,
   "metadata": {},
   "outputs": [
    {
     "data": {
      "text/plain": [
       "array([415, 301, 169])"
      ]
     },
     "execution_count": 498,
     "metadata": {},
     "output_type": "execute_result"
    }
   ],
   "source": [
    "DST_SIZE[0] - pt_ys_angles_string"
   ]
  },
  {
   "cell_type": "code",
   "execution_count": 492,
   "metadata": {},
   "outputs": [
    {
     "data": {
      "text/plain": [
       "9"
      ]
     },
     "execution_count": 492,
     "metadata": {},
     "output_type": "execute_result"
    }
   ],
   "source": [
    "pt_x_angles_string"
   ]
  },
  {
   "cell_type": "code",
   "execution_count": null,
   "metadata": {},
   "outputs": [],
   "source": []
  },
  {
   "cell_type": "code",
   "execution_count": 481,
   "metadata": {},
   "outputs": [
    {
     "name": "stdout",
     "output_type": "stream",
     "text": [
      "(60, 762)\n",
      "(50, 762)\n"
     ]
    }
   ],
   "source": [
    "output_image = 255 * np.ones((650, 800), dtype=np.uint8)\n",
    "\n",
    "put_crop(output_image, angles_string_images[0], (500, 0))\n",
    "put_crop(output_image, angles_string_images[0], (600, 0))"
   ]
  },
  {
   "cell_type": "code",
   "execution_count": 482,
   "metadata": {},
   "outputs": [
    {
     "data": {
      "text/plain": [
       "<matplotlib.image.AxesImage at 0x7fe6db2fff98>"
      ]
     },
     "execution_count": 482,
     "metadata": {},
     "output_type": "execute_result"
    },
    {
     "data": {
      "image/png": "[encoded data removed]",
      "text/plain": [
       "<Figure size 432x288 with 1 Axes>"
      ]
     },
     "metadata": {
      "needs_background": "light"
     },
     "output_type": "display_data"
    }
   ],
   "source": [
    "plt.imshow(output_image, cmap='gray', vmin=0, vmax=255)"
   ]
  },
  {
   "cell_type": "code",
   "execution_count": 455,
   "metadata": {},
   "outputs": [
    {
     "data": {
      "text/plain": [
       "array([[255, 255, 255, ..., 255, 255, 255],\n",
       "       [255, 255, 255, ..., 255, 255, 255],\n",
       "       [255, 255, 255, ..., 255, 255, 255],\n",
       "       ...,\n",
       "       [255, 255, 255, ..., 255, 255, 255],\n",
       "       [255, 255, 255, ..., 255, 255, 255],\n",
       "       [255, 255, 255, ..., 255, 255, 255]], dtype=uint8)"
      ]
     },
     "execution_count": 455,
     "metadata": {},
     "output_type": "execute_result"
    }
   ],
   "source": [
    "output_image"
   ]
  },
  {
   "cell_type": "code",
   "execution_count": null,
   "metadata": {},
   "outputs": [],
   "source": []
  },
  {
   "cell_type": "code",
   "execution_count": 414,
   "metadata": {},
   "outputs": [
    {
     "ename": "ValueError",
     "evalue": "all the input array dimensions except for the concatenation axis must match exactly",
     "output_type": "error",
     "traceback": [
      "\u001b[0;31m---------------------------------------------------------------------------\u001b[0m",
      "\u001b[0;31mValueError\u001b[0m                                Traceback (most recent call last)",
      "\u001b[0;32m<ipython-input-414-b01a9d03d70f>\u001b[0m in \u001b[0;36m<module>\u001b[0;34m\u001b[0m\n\u001b[0;32m----> 1\u001b[0;31m \u001b[0mimage_bottom\u001b[0m \u001b[0;34m=\u001b[0m \u001b[0mnp\u001b[0m\u001b[0;34m.\u001b[0m\u001b[0mconcatenate\u001b[0m\u001b[0;34m(\u001b[0m\u001b[0mangles_string_images\u001b[0m\u001b[0;34m,\u001b[0m \u001b[0maxis\u001b[0m\u001b[0;34m=\u001b[0m\u001b[0;36m0\u001b[0m\u001b[0;34m)\u001b[0m\u001b[0;34m\u001b[0m\u001b[0;34m\u001b[0m\u001b[0m\n\u001b[0m",
      "\u001b[0;31mValueError\u001b[0m: all the input array dimensions except for the concatenation axis must match exactly"
     ]
    }
   ],
   "source": [
    "image_bottom = np.concatenate(angles_string_images, axis=0)"
   ]
  },
  {
   "cell_type": "code",
   "execution_count": 403,
   "metadata": {},
   "outputs": [
    {
     "data": {
      "text/plain": [
       "(60, 618)"
      ]
     },
     "execution_count": 403,
     "metadata": {},
     "output_type": "execute_result"
    }
   ],
   "source": [
    "angles_string_images[1].shape"
   ]
  },
  {
   "cell_type": "code",
   "execution_count": 402,
   "metadata": {},
   "outputs": [
    {
     "data": {
      "text/plain": [
       "(60, 762)"
      ]
     },
     "execution_count": 402,
     "metadata": {},
     "output_type": "execute_result"
    }
   ],
   "source": [
    "angles_string_images[0].shape"
   ]
  },
  {
   "cell_type": "code",
   "execution_count": null,
   "metadata": {},
   "outputs": [],
   "source": []
  },
  {
   "cell_type": "code",
   "execution_count": null,
   "metadata": {},
   "outputs": [],
   "source": []
  },
  {
   "cell_type": "code",
   "execution_count": null,
   "metadata": {},
   "outputs": [],
   "source": []
  },
  {
   "cell_type": "code",
   "execution_count": null,
   "metadata": {},
   "outputs": [],
   "source": []
  },
  {
   "cell_type": "code",
   "execution_count": 383,
   "metadata": {},
   "outputs": [
    {
     "data": {
      "text/plain": [
       "<matplotlib.image.AxesImage at 0x7fe6dbf8b470>"
      ]
     },
     "execution_count": 383,
     "metadata": {},
     "output_type": "execute_result"
    },
    {
     "data": {
      "image/png": "[encoded data removed]",
      "text/plain": [
       "<Figure size 432x288 with 1 Axes>"
      ]
     },
     "metadata": {
      "needs_background": "light"
     },
     "output_type": "display_data"
    }
   ],
   "source": [
    "plt.imshow(image_bottom, cmap='gray')"
   ]
  },
  {
   "cell_type": "code",
   "execution_count": 287,
   "metadata": {},
   "outputs": [
    {
     "data": {
      "text/plain": [
       "(120, 733, 3)"
      ]
     },
     "execution_count": 287,
     "metadata": {},
     "output_type": "execute_result"
    }
   ],
   "source": [
    "image_bottom.shape"
   ]
  },
  {
   "cell_type": "code",
   "execution_count": 286,
   "metadata": {},
   "outputs": [
    {
     "data": {
      "text/plain": [
       "3"
      ]
     },
     "execution_count": 286,
     "metadata": {},
     "output_type": "execute_result"
    }
   ],
   "source": [
    "image_bottom.ndim"
   ]
  },
  {
   "cell_type": "code",
   "execution_count": 288,
   "metadata": {},
   "outputs": [
    {
     "name": "stdout",
     "output_type": "stream",
     "text": [
      "Populating the interactive namespace from numpy and matplotlib\n"
     ]
    },
    {
     "data": {
      "text/plain": [
       "<matplotlib.image.AxesImage at 0x7fe6e08d4a90>"
      ]
     },
     "execution_count": 288,
     "metadata": {},
     "output_type": "execute_result"
    },
    {
     "data": {
      "image/png": "[encoded data removed]",
      "text/plain": [
       "<Figure size 432x288 with 1 Axes>"
      ]
     },
     "metadata": {
      "needs_background": "light"
     },
     "output_type": "display_data"
    }
   ],
   "source": [
    "%pylab inline\n",
    "\n",
    "plt.imshow(image_bottom)"
   ]
  },
  {
   "cell_type": "code",
   "execution_count": 285,
   "metadata": {},
   "outputs": [
    {
     "data": {
      "text/plain": [
       "(120, 733, 3)"
      ]
     },
     "execution_count": 285,
     "metadata": {},
     "output_type": "execute_result"
    }
   ],
   "source": [
    "image_bottom.shape"
   ]
  },
  {
   "cell_type": "code",
   "execution_count": 246,
   "metadata": {},
   "outputs": [
    {
     "data": {
      "text/plain": [
       "'<<<<<<<<<<<<<<<<<<<<<<<<<<<<<<'"
      ]
     },
     "execution_count": 246,
     "metadata": {},
     "output_type": "execute_result"
    }
   ],
   "source": [
    "s"
   ]
  },
  {
   "cell_type": "code",
   "execution_count": null,
   "metadata": {},
   "outputs": [],
   "source": []
  },
  {
   "cell_type": "code",
   "execution_count": 249,
   "metadata": {},
   "outputs": [
    {
     "data": {
      "image/png": "[encoded data removed]",
      "text/plain": [
       "<PIL.Image.Image image mode=RGBA size=1050x60 at 0x7FE6E0915F60>"
      ]
     },
     "execution_count": 249,
     "metadata": {},
     "output_type": "execute_result"
    }
   ],
   "source": []
  },
  {
   "cell_type": "code",
   "execution_count": null,
   "metadata": {},
   "outputs": [],
   "source": []
  },
  {
   "cell_type": "code",
   "execution_count": null,
   "metadata": {},
   "outputs": [],
   "source": []
  },
  {
   "cell_type": "code",
   "execution_count": 134,
   "metadata": {},
   "outputs": [
    {
     "data": {
      "text/plain": [
       "array([0, 0, 0, ..., 0, 0, 0], dtype=uint8)"
      ]
     },
     "execution_count": 134,
     "metadata": {},
     "output_type": "execute_result"
    }
   ],
   "source": [
    "im[im == 0]"
   ]
  },
  {
   "cell_type": "code",
   "execution_count": null,
   "metadata": {},
   "outputs": [],
   "source": []
  },
  {
   "cell_type": "code",
   "execution_count": null,
   "metadata": {},
   "outputs": [],
   "source": []
  },
  {
   "cell_type": "code",
   "execution_count": 126,
   "metadata": {},
   "outputs": [],
   "source": [
    "import numpy as np"
   ]
  },
  {
   "cell_type": "code",
   "execution_count": 54,
   "metadata": {},
   "outputs": [],
   "source": [
    "g3 = GeneratorFromDict()"
   ]
  },
  {
   "cell_type": "code",
   "execution_count": 83,
   "metadata": {},
   "outputs": [],
   "source": [
    "for img in g3:\n",
    "    # Do something with the pillow image here.\n",
    "    break\n",
    "    \n",
    "im = img[0]"
   ]
  },
  {
   "cell_type": "code",
   "execution_count": 71,
   "metadata": {},
   "outputs": [],
   "source": [
    "import trdg"
   ]
  },
  {
   "cell_type": "code",
   "execution_count": 82,
   "metadata": {},
   "outputs": [],
   "source": [
    "from trdg.background_generator import ImageDraw"
   ]
  },
  {
   "cell_type": "code",
   "execution_count": null,
   "metadata": {},
   "outputs": [],
   "source": [
    "Image."
   ]
  },
  {
   "cell_type": "code",
   "execution_count": null,
   "metadata": {},
   "outputs": [],
   "source": []
  },
  {
   "cell_type": "code",
   "execution_count": null,
   "metadata": {},
   "outputs": [],
   "source": []
  },
  {
   "cell_type": "code",
   "execution_count": 76,
   "metadata": {},
   "outputs": [],
   "source": [
    "ImageDraw.ImageDraw(im)"
   ]
  },
  {
   "cell_type": "code",
   "execution_count": 79,
   "metadata": {},
   "outputs": [
    {
     "data": {
      "image/png": "[encoded data removed]",
      "text/plain": [
       "<PIL.Image.Image image mode=RGB size=62x32 at 0x7FE6E2DD0128>"
      ]
     },
     "execution_count": 79,
     "metadata": {},
     "output_type": "execute_result"
    }
   ],
   "source": [
    "ImageFilter."
   ]
  },
  {
   "cell_type": "code",
   "execution_count": null,
   "metadata": {},
   "outputs": [],
   "source": []
  },
  {
   "cell_type": "code",
   "execution_count": null,
   "metadata": {},
   "outputs": [],
   "source": [
    "from trdg.generators import "
   ]
  },
  {
   "cell_type": "code",
   "execution_count": 2,
   "metadata": {},
   "outputs": [
    {
     "ename": "TypeError",
     "evalue": "Expected cv::UMat for argument 'img'",
     "output_type": "error",
     "traceback": [
      "\u001b[0;31m---------------------------------------------------------------------------\u001b[0m",
      "\u001b[0;31mTypeError\u001b[0m                                 Traceback (most recent call last)",
      "\u001b[0;32m<ipython-input-2-13fc4f80be39>\u001b[0m in \u001b[0;36m<module>\u001b[0;34m\u001b[0m\n\u001b[1;32m     21\u001b[0m \u001b[0;34m\u001b[0m\u001b[0m\n\u001b[1;32m     22\u001b[0m \u001b[0;31m# Using cv2.putText() method\u001b[0m\u001b[0;34m\u001b[0m\u001b[0;34m\u001b[0m\u001b[0;34m\u001b[0m\u001b[0m\n\u001b[0;32m---> 23\u001b[0;31m \u001b[0mcv2\u001b[0m\u001b[0;34m.\u001b[0m\u001b[0mputText\u001b[0m\u001b[0;34m(\u001b[0m\u001b[0mimg\u001b[0m\u001b[0;34m,\u001b[0m \u001b[0;34m'OpenCV'\u001b[0m\u001b[0;34m,\u001b[0m \u001b[0morg\u001b[0m\u001b[0;34m,\u001b[0m \u001b[0mfont\u001b[0m\u001b[0;34m,\u001b[0m \u001b[0mfontScale\u001b[0m\u001b[0;34m,\u001b[0m \u001b[0mcolor\u001b[0m\u001b[0;34m,\u001b[0m \u001b[0mthickness\u001b[0m\u001b[0;34m,\u001b[0m \u001b[0mcv2\u001b[0m\u001b[0;34m.\u001b[0m\u001b[0mLINE_AA\u001b[0m\u001b[0;34m)\u001b[0m\u001b[0;34m\u001b[0m\u001b[0;34m\u001b[0m\u001b[0m\n\u001b[0m\u001b[1;32m     24\u001b[0m \u001b[0;34m\u001b[0m\u001b[0m\n",
      "\u001b[0;31mTypeError\u001b[0m: Expected cv::UMat for argument 'img'"
     ]
    }
   ],
   "source": [
    "import numpy as np\n",
    "import cv2\n",
    "\n",
    "\n",
    "img = 255 * np.ones((256, 256), dtype=np.uint8)\n",
    "\n",
    "# font \n",
    "font = cv2.FONT_HERSHEY_SIMPLEX \n",
    "  \n",
    "# org \n",
    "org = (50, 50) \n",
    "  \n",
    "# fontScale \n",
    "fontScale = 1\n",
    "   \n",
    "# Blue color in BGR \n",
    "color = (255, 0, 0) \n",
    "  \n",
    "# Line thickness of 2 px \n",
    "thickness = 2\n",
    "   \n",
    "# Using cv2.putText() method \n",
    "cv2.putText(img, 'OpenCV', org, font, fontScale, color, thickness, cv2.LINE_AA) \n",
    "   "
   ]
  },
  {
   "cell_type": "code",
   "execution_count": null,
   "metadata": {},
   "outputs": [],
   "source": []
  },
  {
   "cell_type": "code",
   "execution_count": null,
   "metadata": {},
   "outputs": [],
   "source": []
  },
  {
   "cell_type": "code",
   "execution_count": null,
   "metadata": {},
   "outputs": [],
   "source": []
  },
  {
   "cell_type": "code",
   "execution_count": null,
   "metadata": {},
   "outputs": [],
   "source": []
  },
  {
   "cell_type": "code",
   "execution_count": 9,
   "metadata": {},
   "outputs": [
    {
     "name": "stdout",
     "output_type": "stream",
     "text": [
      "----------------------------------------------------------------\n",
      "        Layer (type)               Output Shape         Param #\n",
      "================================================================\n",
      "            Conv2d-1         [-1, 32, 256, 256]             320\n",
      "              ReLU-2         [-1, 32, 256, 256]               0\n",
      "         Dropout2d-3         [-1, 32, 256, 256]               0\n",
      "            Conv2d-4         [-1, 32, 256, 256]           9,248\n",
      "              ReLU-5         [-1, 32, 256, 256]               0\n",
      "         MaxPool2d-6         [-1, 32, 128, 128]               0\n",
      "            Conv2d-7         [-1, 64, 128, 128]          18,496\n",
      "              ReLU-8         [-1, 64, 128, 128]               0\n",
      "         Dropout2d-9         [-1, 64, 128, 128]               0\n",
      "           Conv2d-10         [-1, 64, 128, 128]          36,928\n",
      "             ReLU-11         [-1, 64, 128, 128]               0\n",
      "        MaxPool2d-12           [-1, 64, 64, 64]               0\n",
      "           Conv2d-13          [-1, 128, 64, 64]          73,856\n",
      "             ReLU-14          [-1, 128, 64, 64]               0\n",
      "        Dropout2d-15          [-1, 128, 64, 64]               0\n",
      "           Conv2d-16          [-1, 128, 64, 64]         147,584\n",
      "             ReLU-17          [-1, 128, 64, 64]               0\n",
      "UpsamplingNearest2d-18        [-1, 128, 128, 128]               0\n",
      "           Conv2d-19         [-1, 64, 128, 128]         110,656\n",
      "             ReLU-20         [-1, 64, 128, 128]               0\n",
      "        Dropout2d-21         [-1, 64, 128, 128]               0\n",
      "           Conv2d-22         [-1, 64, 128, 128]          36,928\n",
      "             ReLU-23         [-1, 64, 128, 128]               0\n",
      "UpsamplingNearest2d-24         [-1, 64, 256, 256]               0\n",
      "           Conv2d-25         [-1, 32, 256, 256]          27,680\n",
      "             ReLU-26         [-1, 32, 256, 256]               0\n",
      "        Dropout2d-27         [-1, 32, 256, 256]               0\n",
      "           Conv2d-28         [-1, 32, 256, 256]           9,248\n",
      "             ReLU-29         [-1, 32, 256, 256]               0\n",
      "           Conv2d-30          [-1, 2, 256, 256]              66\n",
      "================================================================\n",
      "Total params: 471,010\n",
      "Trainable params: 471,010\n",
      "Non-trainable params: 0\n",
      "----------------------------------------------------------------\n",
      "Input size (MB): 0.25\n",
      "Forward/backward pass size (MB): 315.00\n",
      "Params size (MB): 1.80\n",
      "Estimated Total Size (MB): 317.05\n",
      "----------------------------------------------------------------\n"
     ]
    }
   ],
   "source": [
    "summary(model, input_size=(1, 256, 256), device='cpu')"
   ]
  },
  {
   "cell_type": "code",
   "execution_count": null,
   "metadata": {},
   "outputs": [],
   "source": []
  }
 ],
 "metadata": {
  "kernelspec": {
   "display_name": "Python 3",
   "language": "python",
   "name": "python3"
  },
  "language_info": {
   "codemirror_mode": {
    "name": "ipython",
    "version": 3
   },
   "file_extension": ".py",
   "mimetype": "text/x-python",
   "name": "python",
   "nbconvert_exporter": "python",
   "pygments_lexer": "ipython3",
   "version": "3.6.8"
  }
 },
 "nbformat": 4,
 "nbformat_minor": 2
}
